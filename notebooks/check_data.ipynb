{
 "cells": [
  {
   "cell_type": "markdown",
   "metadata": {},
   "source": [
    "# Importing and Exploring data \n",
    "<br>Dataset from ATP matches \n",
    "<br>Lin Zhou, Sept. 2018\n"
   ]
  },
  {
   "cell_type": "code",
   "execution_count": 3,
   "metadata": {
    "collapsed": true
   },
   "outputs": [],
   "source": [
    "#### imports ####\n",
    "import pandas as pd\n",
    "import matplotlib.pyplot as plt\n",
    "import numpy as np\n",
    "from scipy import stats\n",
    "import os\n",
    "import glob\n",
    "\n",
    "\n",
    "# configurations\n",
    "%matplotlib inline  \n",
    "#save_path = 'analysis_results/'  # folder for saving analysis results \n"
   ]
  },
  {
   "cell_type": "code",
   "execution_count": 4,
   "metadata": {
    "collapsed": false
   },
   "outputs": [],
   "source": [
    "#### functions ####\n",
    "def import_csv (file_path, separator = ',', add_day_of_week = True):\n",
    "    \"\"\"\n",
    "    import csv file from path, remove unnamed columns, and (by default) get day of the week from date\n",
    "    \n",
    "    variables\n",
    "    file_path: only file name if in the same folder as script\n",
    "    separator: separator of columns, defult = ','\n",
    "    add_day_of_week: True: (by default) get day of the week\n",
    "    \"\"\"\n",
    "    \n",
    "    # read csv file into padas dataframe\n",
    "    df_raw = pd.read_csv(file_path, sep = separator, encoding = \"ISO-8859-1\")  \n",
    "    \n",
    "    # drop unnamed columns.. \n",
    "    df = df_raw.drop(df_raw.columns[df_raw.columns.str.contains('unnamed',case = False)],axis = 1)\n",
    "    \n",
    "    # and get weekdays from dates \n",
    "    df['tourney_date'] = pd.to_datetime(df['tourney_date'], format='%Y%m%d')  # convert day format into datetime\n",
    "    df['day_of_week'] = df['tourney_date'].dt.weekday_name  # get day name\n",
    "    #df['day_of_week'] = df['Day'].dt.weekday  # get day as number, Mon = 0\n",
    "    \n",
    "    # remove timestamp from datetime format on 'Day' column\n",
    "    #df['tourney_date'] =df['tourney_date'].dt.date \n",
    "    \n",
    "    return df\n",
    "\n",
    "\n",
    "def get_finals (file_path, separator = ',', add_day_of_week = True):\n",
    "    \"\"\"\n",
    "    import csv files into dataframe and get rows for finals\n",
    "    \"\"\"\n",
    "    df = import_csv(file_path)\n",
    "    df_finals = df.loc[df['round'] == 'F']\n",
    "    \n",
    "    return df_finals"
   ]
  },
  {
   "cell_type": "code",
   "execution_count": 6,
   "metadata": {
    "collapsed": false
   },
   "outputs": [],
   "source": [
    "#### Main ####\n",
    "\n",
    "# check out one file \n",
    "# import csv \n",
    "folder_path = '../data/external/atp_matches/'\n",
    "file_path = '../data/external/atp_matches/atp_matches_2017.csv'\n",
    "df = import_csv (file_path)\n"
   ]
  },
  {
   "cell_type": "code",
   "execution_count": 25,
   "metadata": {
    "collapsed": false
   },
   "outputs": [
    {
     "data": {
      "text/plain": [
       "'../data/external/atp_matches/*.csv'"
      ]
     },
     "execution_count": 25,
     "metadata": {},
     "output_type": "execute_result"
    }
   ],
   "source": [
    "os.path.join(folder_path, '*.csv')"
   ]
  },
  {
   "cell_type": "code",
   "execution_count": 26,
   "metadata": {
    "collapsed": false
   },
   "outputs": [
    {
     "name": "stdout",
     "output_type": "stream",
     "text": [
      "<class 'pandas.core.frame.DataFrame'>\n",
      "RangeIndex: 2886 entries, 0 to 2885\n",
      "Data columns (total 50 columns):\n",
      "tourney_id            2886 non-null object\n",
      "tourney_name          2886 non-null object\n",
      "surface               2886 non-null object\n",
      "draw_size             2886 non-null int64\n",
      "tourney_level         2886 non-null object\n",
      "tourney_date          2886 non-null object\n",
      "match_num             2886 non-null int64\n",
      "winner_id             2886 non-null int64\n",
      "winner_seed           1222 non-null float64\n",
      "winner_entry          366 non-null object\n",
      "winner_name           2886 non-null object\n",
      "winner_hand           2884 non-null object\n",
      "winner_ht             2289 non-null float64\n",
      "winner_ioc            2886 non-null object\n",
      "winner_age            2884 non-null float64\n",
      "winner_rank           2869 non-null float64\n",
      "winner_rank_points    2869 non-null float64\n",
      "loser_id              2886 non-null int64\n",
      "loser_seed            700 non-null float64\n",
      "loser_entry           561 non-null object\n",
      "loser_name            2886 non-null object\n",
      "loser_hand            2881 non-null object\n",
      "loser_ht              1977 non-null float64\n",
      "loser_ioc             2886 non-null object\n",
      "loser_age             2877 non-null float64\n",
      "loser_rank            2848 non-null float64\n",
      "loser_rank_points     2848 non-null float64\n",
      "score                 2886 non-null object\n",
      "best_of               2886 non-null int64\n",
      "round                 2886 non-null object\n",
      "minutes               2836 non-null float64\n",
      "w_ace                 2855 non-null float64\n",
      "w_df                  2855 non-null float64\n",
      "w_svpt                2855 non-null float64\n",
      "w_1stIn               2855 non-null float64\n",
      "w_1stWon              2855 non-null float64\n",
      "w_2ndWon              2855 non-null float64\n",
      "w_SvGms               2855 non-null float64\n",
      "w_bpSaved             2855 non-null float64\n",
      "w_bpFaced             2855 non-null float64\n",
      "l_ace                 2855 non-null float64\n",
      "l_df                  2855 non-null float64\n",
      "l_svpt                2855 non-null float64\n",
      "l_1stIn               2855 non-null float64\n",
      "l_1stWon              2855 non-null float64\n",
      "l_2ndWon              2855 non-null float64\n",
      "l_SvGms               2855 non-null float64\n",
      "l_bpSaved             2855 non-null float64\n",
      "l_bpFaced             2855 non-null float64\n",
      "day_of_week           2886 non-null object\n",
      "dtypes: float64(29), int64(5), object(16)\n",
      "memory usage: 1.1+ MB\n"
     ]
    },
    {
     "data": {
      "text/html": [
       "<div>\n",
       "<style scoped>\n",
       "    .dataframe tbody tr th:only-of-type {\n",
       "        vertical-align: middle;\n",
       "    }\n",
       "\n",
       "    .dataframe tbody tr th {\n",
       "        vertical-align: top;\n",
       "    }\n",
       "\n",
       "    .dataframe thead th {\n",
       "        text-align: right;\n",
       "    }\n",
       "</style>\n",
       "<table border=\"1\" class=\"dataframe\">\n",
       "  <thead>\n",
       "    <tr style=\"text-align: right;\">\n",
       "      <th></th>\n",
       "      <th>tourney_id</th>\n",
       "      <th>tourney_name</th>\n",
       "      <th>surface</th>\n",
       "      <th>draw_size</th>\n",
       "      <th>tourney_level</th>\n",
       "      <th>tourney_date</th>\n",
       "      <th>match_num</th>\n",
       "      <th>winner_id</th>\n",
       "      <th>winner_seed</th>\n",
       "      <th>winner_entry</th>\n",
       "      <th>...</th>\n",
       "      <th>l_ace</th>\n",
       "      <th>l_df</th>\n",
       "      <th>l_svpt</th>\n",
       "      <th>l_1stIn</th>\n",
       "      <th>l_1stWon</th>\n",
       "      <th>l_2ndWon</th>\n",
       "      <th>l_SvGms</th>\n",
       "      <th>l_bpSaved</th>\n",
       "      <th>l_bpFaced</th>\n",
       "      <th>day_of_week</th>\n",
       "    </tr>\n",
       "  </thead>\n",
       "  <tbody>\n",
       "    <tr>\n",
       "      <th>0</th>\n",
       "      <td>2017-M020</td>\n",
       "      <td>Brisbane</td>\n",
       "      <td>Hard</td>\n",
       "      <td>32</td>\n",
       "      <td>A</td>\n",
       "      <td>2017-01-02</td>\n",
       "      <td>300</td>\n",
       "      <td>105777</td>\n",
       "      <td>7.0</td>\n",
       "      <td>NaN</td>\n",
       "      <td>...</td>\n",
       "      <td>4.0</td>\n",
       "      <td>0.0</td>\n",
       "      <td>69.0</td>\n",
       "      <td>49.0</td>\n",
       "      <td>36.0</td>\n",
       "      <td>9.0</td>\n",
       "      <td>12.0</td>\n",
       "      <td>2.0</td>\n",
       "      <td>5.0</td>\n",
       "      <td>Monday</td>\n",
       "    </tr>\n",
       "    <tr>\n",
       "      <th>1</th>\n",
       "      <td>2017-M020</td>\n",
       "      <td>Brisbane</td>\n",
       "      <td>Hard</td>\n",
       "      <td>32</td>\n",
       "      <td>A</td>\n",
       "      <td>2017-01-02</td>\n",
       "      <td>299</td>\n",
       "      <td>105777</td>\n",
       "      <td>7.0</td>\n",
       "      <td>NaN</td>\n",
       "      <td>...</td>\n",
       "      <td>4.0</td>\n",
       "      <td>3.0</td>\n",
       "      <td>61.0</td>\n",
       "      <td>28.0</td>\n",
       "      <td>24.0</td>\n",
       "      <td>16.0</td>\n",
       "      <td>10.0</td>\n",
       "      <td>2.0</td>\n",
       "      <td>4.0</td>\n",
       "      <td>Monday</td>\n",
       "    </tr>\n",
       "    <tr>\n",
       "      <th>2</th>\n",
       "      <td>2017-M020</td>\n",
       "      <td>Brisbane</td>\n",
       "      <td>Hard</td>\n",
       "      <td>32</td>\n",
       "      <td>A</td>\n",
       "      <td>2017-01-02</td>\n",
       "      <td>298</td>\n",
       "      <td>105453</td>\n",
       "      <td>3.0</td>\n",
       "      <td>NaN</td>\n",
       "      <td>...</td>\n",
       "      <td>9.0</td>\n",
       "      <td>2.0</td>\n",
       "      <td>61.0</td>\n",
       "      <td>37.0</td>\n",
       "      <td>27.0</td>\n",
       "      <td>10.0</td>\n",
       "      <td>10.0</td>\n",
       "      <td>0.0</td>\n",
       "      <td>2.0</td>\n",
       "      <td>Monday</td>\n",
       "    </tr>\n",
       "    <tr>\n",
       "      <th>3</th>\n",
       "      <td>2017-M020</td>\n",
       "      <td>Brisbane</td>\n",
       "      <td>Hard</td>\n",
       "      <td>32</td>\n",
       "      <td>A</td>\n",
       "      <td>2017-01-02</td>\n",
       "      <td>297</td>\n",
       "      <td>105683</td>\n",
       "      <td>1.0</td>\n",
       "      <td>NaN</td>\n",
       "      <td>...</td>\n",
       "      <td>4.0</td>\n",
       "      <td>0.0</td>\n",
       "      <td>84.0</td>\n",
       "      <td>61.0</td>\n",
       "      <td>39.0</td>\n",
       "      <td>14.0</td>\n",
       "      <td>14.0</td>\n",
       "      <td>2.0</td>\n",
       "      <td>4.0</td>\n",
       "      <td>Monday</td>\n",
       "    </tr>\n",
       "    <tr>\n",
       "      <th>4</th>\n",
       "      <td>2017-M020</td>\n",
       "      <td>Brisbane</td>\n",
       "      <td>Hard</td>\n",
       "      <td>32</td>\n",
       "      <td>A</td>\n",
       "      <td>2017-01-02</td>\n",
       "      <td>296</td>\n",
       "      <td>105777</td>\n",
       "      <td>7.0</td>\n",
       "      <td>NaN</td>\n",
       "      <td>...</td>\n",
       "      <td>6.0</td>\n",
       "      <td>5.0</td>\n",
       "      <td>82.0</td>\n",
       "      <td>37.0</td>\n",
       "      <td>29.0</td>\n",
       "      <td>24.0</td>\n",
       "      <td>14.0</td>\n",
       "      <td>4.0</td>\n",
       "      <td>7.0</td>\n",
       "      <td>Monday</td>\n",
       "    </tr>\n",
       "  </tbody>\n",
       "</table>\n",
       "<p>5 rows × 50 columns</p>\n",
       "</div>"
      ],
      "text/plain": [
       "  tourney_id tourney_name surface  draw_size tourney_level tourney_date  \\\n",
       "0  2017-M020     Brisbane    Hard         32             A   2017-01-02   \n",
       "1  2017-M020     Brisbane    Hard         32             A   2017-01-02   \n",
       "2  2017-M020     Brisbane    Hard         32             A   2017-01-02   \n",
       "3  2017-M020     Brisbane    Hard         32             A   2017-01-02   \n",
       "4  2017-M020     Brisbane    Hard         32             A   2017-01-02   \n",
       "\n",
       "   match_num  winner_id  winner_seed winner_entry     ...     l_ace l_df  \\\n",
       "0        300     105777          7.0          NaN     ...       4.0  0.0   \n",
       "1        299     105777          7.0          NaN     ...       4.0  3.0   \n",
       "2        298     105453          3.0          NaN     ...       9.0  2.0   \n",
       "3        297     105683          1.0          NaN     ...       4.0  0.0   \n",
       "4        296     105777          7.0          NaN     ...       6.0  5.0   \n",
       "\n",
       "   l_svpt l_1stIn  l_1stWon  l_2ndWon  l_SvGms  l_bpSaved  l_bpFaced  \\\n",
       "0    69.0    49.0      36.0       9.0     12.0        2.0        5.0   \n",
       "1    61.0    28.0      24.0      16.0     10.0        2.0        4.0   \n",
       "2    61.0    37.0      27.0      10.0     10.0        0.0        2.0   \n",
       "3    84.0    61.0      39.0      14.0     14.0        2.0        4.0   \n",
       "4    82.0    37.0      29.0      24.0     14.0        4.0        7.0   \n",
       "\n",
       "  day_of_week  \n",
       "0      Monday  \n",
       "1      Monday  \n",
       "2      Monday  \n",
       "3      Monday  \n",
       "4      Monday  \n",
       "\n",
       "[5 rows x 50 columns]"
      ]
     },
     "execution_count": 26,
     "metadata": {},
     "output_type": "execute_result"
    }
   ],
   "source": [
    "# basic info\n",
    "df.info()\n",
    "df.head()"
   ]
  },
  {
   "cell_type": "markdown",
   "metadata": {},
   "source": [
    "Note: \n",
    "<br> matches from the same tournament have the same dates --> first only look at finals"
   ]
  },
  {
   "cell_type": "code",
   "execution_count": 27,
   "metadata": {
    "collapsed": false
   },
   "outputs": [
    {
     "name": "stdout",
     "output_type": "stream",
     "text": [
      "number of finals = 67\n"
     ]
    }
   ],
   "source": [
    "# extract rows for finals \n",
    "df_finals = df.loc[df['round'] == 'F']\n",
    "print('number of finals = ' + str(df_finals.shape[0]))"
   ]
  },
  {
   "cell_type": "code",
   "execution_count": 28,
   "metadata": {
    "collapsed": false
   },
   "outputs": [
    {
     "data": {
      "text/plain": [
       "Text(0,0.5,'Number of Matches')"
      ]
     },
     "execution_count": 28,
     "metadata": {},
     "output_type": "execute_result"
    },
    {
     "data": {
      "image/png": "[encoded data removed]",
      "text/plain": [
       "<Figure size 432x288 with 1 Axes>"
      ]
     },
     "metadata": {},
     "output_type": "display_data"
    }
   ],
   "source": [
    "# count matches by surface type\n",
    "finals_surface_count = df.groupby('surface', sort=False)['surface'].size() \n",
    "\n",
    "# plot count for surface types \n",
    "fig = finals_surface_count.plot.bar()\n",
    "plt.xticks(rotation=45)\n",
    "plt.ylabel('Number of Matches')"
   ]
  },
  {
   "cell_type": "code",
   "execution_count": 29,
   "metadata": {
    "collapsed": false
   },
   "outputs": [
    {
     "data": {
      "text/plain": [
       "Text(0,0.5,'Number of Matches')"
      ]
     },
     "execution_count": 29,
     "metadata": {},
     "output_type": "execute_result"
    },
    {
     "data": {
      "image/png": "[encoded data removed]",
      "text/plain": [
       "<Figure size 432x288 with 1 Axes>"
      ]
     },
     "metadata": {},
     "output_type": "display_data"
    }
   ],
   "source": [
    "# count matches by day of the week\n",
    "finals_weekday_count = df.groupby('day_of_week', sort=False)['day_of_week'].size() \n",
    "\n",
    "# plot count for surface types \n",
    "fig = finals_weekday_count.plot.bar()\n",
    "plt.xticks(rotation=45)\n",
    "plt.ylabel('Number of Matches')"
   ]
  },
  {
   "cell_type": "markdown",
   "metadata": {},
   "source": [
    "the day of match is not correct for finals, leave the date analysis for now"
   ]
  },
  {
   "cell_type": "markdown",
   "metadata": {},
   "source": [
    "## Analyzing finals\n",
    "> - distribution of winner age"
   ]
  },
  {
   "cell_type": "code",
   "execution_count": 24,
   "metadata": {
    "collapsed": false
   },
   "outputs": [
    {
     "name": "stdout",
     "output_type": "stream",
     "text": [
      "[2008 2009 2010 2011 2012 2013 2014 2015 2016 2017]\n"
     ]
    }
   ],
   "source": [
    "# load finals data from several years into dataframe df_finals\n",
    "all_files = glob.glob(os.path.join(folder_path, 'atp_matches_*.csv')) # make a list of file paths\n",
    "df_finals = pd.concat([get_finals(file) for file in all_files])\n",
    "\n",
    "# there's a one-day shift on the tournament dates, correction with pd.DateOffset\n",
    "df_finals['tourney_date'] =  pd.to_datetime(df_finals['tourney_date'])\n",
    "df_finals['tourney_date'] = pd.to_datetime(df_finals['tourney_date']).apply(pd.DateOffset(1))\n",
    "\n",
    "# add year column\n",
    "df_finals['tourney_year'] = df_finals['tourney_date'].dt.year\n",
    "print(df_finals.tourney_year.unique())\n",
    "\n",
    "#df_finals.info()"
   ]
  },
  {
   "cell_type": "code",
   "execution_count": 25,
   "metadata": {
    "collapsed": false
   },
   "outputs": [
    {
     "name": "stdout",
     "output_type": "stream",
     "text": [
      "number of finals = 670\n"
     ]
    }
   ],
   "source": [
    "# and save df_finals as csv\n",
    "save_path = '../data/processed/'\n",
    "df_finals.to_csv(os.path.join(save_path, r'finals_yr08-17.csv'))\n",
    "print('number of finals = ' + str(df_finals.shape[0]))"
   ]
  },
  {
   "cell_type": "code",
   "execution_count": 26,
   "metadata": {
    "collapsed": false
   },
   "outputs": [
    {
     "name": "stdout",
     "output_type": "stream",
     "text": [
      "17.3316868113 7.21674678312e-26\n",
      "ages in finals are significantly different from each year\n"
     ]
    },
    {
     "data": {
      "image/png": "[encoded data removed]",
      "text/plain": [
       "<Figure size 432x288 with 1 Axes>"
      ]
     },
     "metadata": {},
     "output_type": "display_data"
    }
   ],
   "source": [
    "# plot distribution of winner age\n",
    "final_age_plt = df_finals.boxplot(column = ['winner_age'], by = 'tourney_year', showmeans = True)\n",
    "\n",
    "# one way ANOVA test on ages of players in finals, \n",
    "# p_value < 0.05: ages are significantly different; p_value > 0.05: ages are not significantly different\n",
    "f_value, p_value = stats.f_oneway(df_finals['winner_age'][df_finals['tourney_year'] == 2008],\n",
    "                                  df_finals['winner_age'][df_finals['tourney_year'] == 2009],\n",
    "                                  df_finals['winner_age'][df_finals['tourney_year'] == 2010],\n",
    "                                  df_finals['winner_age'][df_finals['tourney_year'] == 2011],\n",
    "                                  df_finals['winner_age'][df_finals['tourney_year'] == 2012],\n",
    "                                  df_finals['winner_age'][df_finals['tourney_year'] == 2013],\n",
    "                                  df_finals['winner_age'][df_finals['tourney_year'] == 2014],\n",
    "                                  df_finals['winner_age'][df_finals['tourney_year'] == 2015],\n",
    "                                  df_finals['winner_age'][df_finals['tourney_year'] == 2016],\n",
    "                                  df_finals['winner_age'][df_finals['tourney_year'] == 2017])\n",
    "\n",
    "print(f_value, p_value)\n",
    "if p_value <= 0.05:\n",
    "    print('ages in finals are significantly different from each year')\n",
    "else:\n",
    "    print('ages in finals are not significantly different from each year')\n"
   ]
  },
  {
   "cell_type": "markdown",
   "metadata": {
    "collapsed": true
   },
   "source": []
  },
  {
   "cell_type": "code",
   "execution_count": null,
   "metadata": {
    "collapsed": true
   },
   "outputs": [],
   "source": []
  }
 ],
 "metadata": {
  "anaconda-cloud": {},
  "kernelspec": {
   "display_name": "Python [default]",
   "language": "python",
   "name": "python3"
  },
  "language_info": {
   "codemirror_mode": {
    "name": "ipython",
    "version": 3
   },
   "file_extension": ".py",
   "mimetype": "text/x-python",
   "name": "python",
   "nbconvert_exporter": "python",
   "pygments_lexer": "ipython3",
   "version": "3.5.2"
  }
 },
 "nbformat": 4,
 "nbformat_minor": 1
}
