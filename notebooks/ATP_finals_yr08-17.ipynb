{
 "cells": [
  {
   "cell_type": "markdown",
   "metadata": {},
   "source": [
    "# check data: ATP finals in the past 10 yrs\n",
    "- processed data: finals extracted from ATP tournaments in the past 10 yrs (2008-2017), yr 2018 is not included because dataset is not complete\n",
    "- explore data, and select parameters for prediction\n",
    "\n",
    "<br>Lin Zhou, Sept 2018"
   ]
  },
  {
   "cell_type": "code",
   "execution_count": 10,
   "metadata": {
    "collapsed": true
   },
   "outputs": [],
   "source": [
    "#### imports ####\n",
    "import pandas as pd\n",
    "import matplotlib.pyplot as plt\n",
    "import numpy as np\n",
    "from scipy import stats\n",
    "import os\n",
    "\n",
    "\n",
    "# configurations\n",
    "%matplotlib inline  \n",
    "#save_path = 'analysis_results/'  # folder for saving analysis results "
   ]
  },
  {
   "cell_type": "code",
   "execution_count": 11,
   "metadata": {
    "collapsed": false
   },
   "outputs": [],
   "source": [
    "#### Main ####\n",
    "\n",
    "# import csv \n",
    "file_path = '../data/processed/finals_yr08-17.csv'\n",
    "df_finals = pd.read_csv(file_path)  "
   ]
  },
  {
   "cell_type": "markdown",
   "metadata": {},
   "source": [
    "## Explore ages of players\n"
   ]
  },
  {
   "cell_type": "code",
   "execution_count": 12,
   "metadata": {
    "collapsed": false
   },
   "outputs": [
    {
     "name": "stdout",
     "output_type": "stream",
     "text": [
      "17.146165904 1.41604910171e-25\n",
      "ages in finals are significantly different from each year\n"
     ]
    },
    {
     "data": {
      "image/png": "[encoded data removed]",
      "text/plain": [
       "<Figure size 432x288 with 1 Axes>"
      ]
     },
     "metadata": {},
     "output_type": "display_data"
    }
   ],
   "source": [
    "# plot distribution of winner age\n",
    "final_age_plt = df_finals.boxplot(column = ['winner_age'], by = 'tourney_year', showmeans = True)\n",
    "\n",
    "# one way ANOVA test on ages of players in finals, \n",
    "# p_value < 0.05: ages are significantly different; p_value > 0.05: ages are not significantly different\n",
    "f_value, p_value = stats.f_oneway(df_finals['winner_age'][df_finals['tourney_year'] == 2008],\n",
    "                                  df_finals['winner_age'][df_finals['tourney_year'] == 2009],\n",
    "                                  df_finals['winner_age'][df_finals['tourney_year'] == 2010],\n",
    "                                  df_finals['winner_age'][df_finals['tourney_year'] == 2011],\n",
    "                                  df_finals['winner_age'][df_finals['tourney_year'] == 2012],\n",
    "                                  df_finals['winner_age'][df_finals['tourney_year'] == 2013],\n",
    "                                  df_finals['winner_age'][df_finals['tourney_year'] == 2014],\n",
    "                                  df_finals['winner_age'][df_finals['tourney_year'] == 2015],\n",
    "                                  df_finals['winner_age'][df_finals['tourney_year'] == 2016],\n",
    "                                  df_finals['winner_age'][df_finals['tourney_year'] == 2017])\n",
    "\n",
    "print(f_value, p_value)\n",
    "if p_value <= 0.05:\n",
    "    print('ages in finals are significantly different from each year')\n",
    "else:\n",
    "    print('ages in finals are not significantly different from each year')\n"
   ]
  },
  {
   "cell_type": "markdown",
   "metadata": {},
   "source": [
    "so there seems to be an upward trend for ages of winners in tournaments, which is consistent with the fact that in recent years, top players remain amost always the same ones \n",
    "<br>let's confirm with linear regression?"
   ]
  },
  {
   "cell_type": "code",
   "execution_count": null,
   "metadata": {
    "collapsed": true
   },
   "outputs": [],
   "source": [
    "# linear regression to see if there's a linear increase of player age over the years"
   ]
  },
  {
   "cell_type": "markdown",
   "metadata": {},
   "source": [
    "## Explore players who are winning the most \n",
    "1. Find ways to describe \"most-winning\": number of tournaments per player over the years?\n",
    "2. Is number of wins per player consistent at different tournament levels?"
   ]
  },
  {
   "cell_type": "code",
   "execution_count": null,
   "metadata": {
    "collapsed": true
   },
   "outputs": [],
   "source": []
  }
 ],
 "metadata": {
  "kernelspec": {
   "display_name": "Python [default]",
   "language": "python",
   "name": "python3"
  },
  "language_info": {
   "codemirror_mode": {
    "name": "ipython",
    "version": 3
   },
   "file_extension": ".py",
   "mimetype": "text/x-python",
   "name": "python",
   "nbconvert_exporter": "python",
   "pygments_lexer": "ipython3",
   "version": "3.5.2"
  }
 },
 "nbformat": 4,
 "nbformat_minor": 2
}
