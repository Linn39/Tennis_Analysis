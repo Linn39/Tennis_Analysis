{
 "cells": [
  {
   "cell_type": "markdown",
   "metadata": {},
   "source": [
    "# Try Random Forest Analysis\n",
    "### Objective\n",
    "- Find most important features that contributes to winning a match\n",
    "- Compare winning strategies for different types of surface"
   ]
  },
  {
   "cell_type": "code",
   "execution_count": 109,
   "metadata": {
    "collapsed": true
   },
   "outputs": [],
   "source": [
    "#### imports ####\n",
    "import pandas as pd\n",
    "import matplotlib.pyplot as plt\n",
    "import numpy as np\n",
    "from scipy import stats\n",
    "import os\n",
    "from sklearn.tree import DecisionTreeRegressor\n",
    "from sklearn.metrics import mean_absolute_error\n",
    "from sklearn.model_selection import train_test_split\n",
    "\n",
    "# configurations\n",
    "#%matplotlib inline  "
   ]
  },
  {
   "cell_type": "code",
   "execution_count": 2,
   "metadata": {
    "collapsed": true
   },
   "outputs": [],
   "source": [
    "#### Main ####\n",
    "\n",
    "# import csv \n",
    "file_path = '../data/processed/finals_yr08-17.csv'\n",
    "df_finals = pd.read_csv(file_path)  \n",
    "\n",
    "# create save path for figures \n",
    "save_path = '../reports/figures/try_random_forest/'"
   ]
  },
  {
   "cell_type": "markdown",
   "metadata": {},
   "source": [
    "### Get data for winners and losers in all finals 2008 - 2017\n",
    "- extract colums for winner and loser stats\n",
    "<br>rearrange the dataframe into winner info and loser info, new column \"match_result\" --> win / lose"
   ]
  },
  {
   "cell_type": "code",
   "execution_count": 4,
   "metadata": {
    "collapsed": false
   },
   "outputs": [],
   "source": [
    "# convert the original df columns into all numbers, \n",
    "# i.e. give number alias when they are string if possible, otherwise leave out the column\n",
    "features_finals = pd.get_dummies(df_finals)"
   ]
  },
  {
   "cell_type": "code",
   "execution_count": 10,
   "metadata": {
    "collapsed": false
   },
   "outputs": [],
   "source": [
    "# check column names \n",
    "# list(features_finals)\n",
    "\n",
    "# find & select useful columns for training\n",
    "list(features_finals).index('tourney_year')\n",
    "features_finals = features_finals.iloc[:,1:36]"
   ]
  },
  {
   "cell_type": "code",
   "execution_count": 92,
   "metadata": {
    "collapsed": false
   },
   "outputs": [],
   "source": [
    "# check column names again \n",
    "features_finals = features_finals.reindex(sorted(features_finals.columns), axis=1)\n",
    "list(features_finals)\n",
    "\n",
    "# build winner / loser profiles with relavant columns\n",
    "features_finals_w = pd.concat([features_finals.iloc[:,0:2], features_finals.iloc[:,17:]], axis = 1)\n",
    "features_finals_l = pd.concat([features_finals.iloc[:,0:20]], axis = 1)\n",
    "\n",
    "features_finals_w['result'] = 1\n",
    "features_finals_l['result'] = 0\n",
    "\n",
    "\n",
    "## unify column names and combine winner- and loser- profiles \n",
    "features_finals_w = features_finals_w.rename(index=str, columns={'w_1stIn':'1stIn',\n",
    "                                             'w_1stWon':'1stWon',\n",
    "                                             'w_2ndWon':'2ndWon',\n",
    "                                             'w_SvGms':'SvGms',\n",
    "                                             'w_ace':'ace',\n",
    "                                             'w_bpFaced':'bpFaced',\n",
    "                                             'w_bpSaved':'bpSaved',\n",
    "                                             'w_df':'df',\n",
    "                                             'w_svpt':'svpt',\n",
    "                                             'winner_age':'age',\n",
    "                                             'winner_ht':'ht',\n",
    "                                             'winner_id':'id',\n",
    "                                             'winner_rank':'rank',\n",
    "                                             'winner_rank_points':'rank_points',\n",
    "                                             'winner_seed':'seed'})\n",
    "\n",
    "features_finals_l = features_finals_l.rename(index=str, columns={'l_1stIn':'1stIn',\n",
    "                                             'l_1stWon':'1stWon',\n",
    "                                             'l_2ndWon':'2ndWon',\n",
    "                                             'l_SvGms':'SvGms',\n",
    "                                             'l_ace':'ace',\n",
    "                                             'l_bpFaced':'bpFaced',\n",
    "                                             'l_bpSaved':'bpSaved',\n",
    "                                             'l_df':'df',\n",
    "                                             'l_svpt':'svpt',\n",
    "                                             'loser_age':'age',\n",
    "                                             'loser_ht':'ht',\n",
    "                                             'loser_id':'id',\n",
    "                                             'loser_rank':'rank',\n",
    "                                             'loser_rank_points':'rank_points',\n",
    "                                             'loser_seed':'seed'})\n",
    "\n",
    "features_finals_w = features_finals_w.reindex(sorted(features_finals_w.columns), axis=1)\n",
    "features_finals_l = features_finals_l.reindex(sorted(features_finals_l.columns), axis=1)\n",
    "\n"
   ]
  },
  {
   "cell_type": "code",
   "execution_count": 94,
   "metadata": {
    "collapsed": false
   },
   "outputs": [],
   "source": [
    "features_finals_wl = pd.concat([features_finals_w, features_finals_l])\n",
    "features_finals_wl = features_finals_wl.dropna()"
   ]
  },
  {
   "cell_type": "markdown",
   "metadata": {
    "collapsed": false
   },
   "source": [
    "### Build the first random forest model for predicting winners and losers of final matches\n",
    "Use data from final matches 2008-2017 to train a random forest model that predicts whether a player with certain match statistics will win or lose the game\n",
    "\n",
    "- target: \"result\" column: the player won or lost the game\n",
    "- features: first try all the columns\n",
    "\n",
    "<br>Note: This is a very rudimentary model, the player stats are all mixed up, but in reality we should pair stats from both players in a match in order to predict the winner. Try the simple model first, if the predictions are bad, try to include stats of the opponent as well"
   ]
  },
  {
   "cell_type": "code",
   "execution_count": 95,
   "metadata": {
    "collapsed": true
   },
   "outputs": [],
   "source": [
    "y = features_finals_wl.result   # define the prediction target\n",
    "X = features_finals_wl.drop(columns=['result'])   # define the features\n",
    "# X.head(10)"
   ]
  },
  {
   "cell_type": "code",
   "execution_count": 104,
   "metadata": {
    "collapsed": false
   },
   "outputs": [
    {
     "data": {
      "text/plain": [
       "DecisionTreeRegressor(criterion='mse', max_depth=None, max_features=None,\n",
       "           max_leaf_nodes=None, min_impurity_split=1e-07,\n",
       "           min_samples_leaf=1, min_samples_split=2,\n",
       "           min_weight_fraction_leaf=0.0, presort=False, random_state=1,\n",
       "           splitter='best')"
      ]
     },
     "execution_count": 104,
     "metadata": {},
     "output_type": "execute_result"
    }
   ],
   "source": [
    "# Define model. \n",
    "# Specify a number for random_state to ensure same results each run, the number can be random\n",
    "finals_model = DecisionTreeRegressor(random_state=1)\n",
    "\n",
    "# Fit model\n",
    "finals_model.fit(X, y)"
   ]
  },
  {
   "cell_type": "code",
   "execution_count": 107,
   "metadata": {
    "collapsed": false
   },
   "outputs": [
    {
     "data": {
      "text/plain": [
       "0.0"
      ]
     },
     "execution_count": 107,
     "metadata": {},
     "output_type": "execute_result"
    }
   ],
   "source": [
    "# use mean absolute error to validate the model with training data itself\n",
    "predicted_final_result = melbourne_model.predict(X)\n",
    "mean_absolute_error(y, predicted_final_result)\n"
   ]
  },
  {
   "cell_type": "markdown",
   "metadata": {},
   "source": [
    "here the error is 0 because "
   ]
  },
  {
   "cell_type": "code",
   "execution_count": 110,
   "metadata": {
    "collapsed": false
   },
   "outputs": [
    {
     "name": "stdout",
     "output_type": "stream",
     "text": [
      "0.337662337662\n"
     ]
    }
   ],
   "source": [
    "# split data into training and testing data\n",
    "# fixing a random state number makes sure that the split is always the same when running the script\n",
    "train_X, val_X, train_y, val_y = train_test_split(X, y, random_state = 0)\n",
    "\n",
    "## use mean absolute error to validate the model with testing data\n",
    "# Define model\n",
    "melbourne_model = DecisionTreeRegressor()\n",
    "# Fit model\n",
    "melbourne_model.fit(train_X, train_y)\n",
    "\n",
    "# get predicted prices on validation data\n",
    "val_predictions = melbourne_model.predict(val_X)\n",
    "print(mean_absolute_error(val_y, val_predictions))"
   ]
  },
  {
   "cell_type": "code",
   "execution_count": null,
   "metadata": {
    "collapsed": true
   },
   "outputs": [],
   "source": []
  }
 ],
 "metadata": {
  "anaconda-cloud": {},
  "kernelspec": {
   "display_name": "Python [default]",
   "language": "python",
   "name": "python3"
  },
  "language_info": {
   "codemirror_mode": {
    "name": "ipython",
    "version": 3
   },
   "file_extension": ".py",
   "mimetype": "text/x-python",
   "name": "python",
   "nbconvert_exporter": "python",
   "pygments_lexer": "ipython3",
   "version": "3.5.2"
  }
 },
 "nbformat": 4,
 "nbformat_minor": 2
}
